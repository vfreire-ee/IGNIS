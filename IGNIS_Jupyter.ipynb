{
 "cells": [
  {
   "cell_type": "code",
   "execution_count": 1,
   "id": "fc5a09f9",
   "metadata": {},
   "outputs": [
    {
     "name": "stdout",
     "output_type": "stream",
     "text": [
      "Existem 2 empregados que controlam a caldeira 1\n"
     ]
    }
   ],
   "source": [
    "import sqlite3\n",
    "\n",
    "conn = sqlite3.connect(\"IGNIS.db\")\n",
    "c = conn.cursor()\n",
    "\n",
    "#Quantos empregados controlam a caldeira com ID 1?\n",
    "for row in c.execute('''\n",
    "                        SELECT Count(*) AS QUANTIDADE\n",
    "                        FROM Empregado \n",
    "                        WHERE Setor_ID = (SELECT Setor_ID FROM Caldeira WHERE Setor_ID = 1); \n",
    "                    '''):\n",
    "    x = row\n",
    "\n",
    "print('Existem ' + str(x[0]) + ' empregados que controlam a caldeira 1')\n",
    "\n",
    "# Be sure to close the connection\n"
   ]
  },
  {
   "cell_type": "code",
   "execution_count": 2,
   "id": "376d4487",
   "metadata": {},
   "outputs": [
    {
     "name": "stdout",
     "output_type": "stream",
     "text": [
      "A maior temperatura do Setor 1 é: 1307.12 °C\n"
     ]
    }
   ],
   "source": [
    "#Qual a maior temperatura no histórico do setor com ID 1?\n",
    "for row in c.execute('''\n",
    "                        SELECT MAX(Temperatura) AS MAX_TEMPERATURA\n",
    "                        FROM Historico \n",
    "                        WHERE Setor_Id = 1 \n",
    "                    '''):\n",
    "    x = row\n",
    "\n",
    "print('A maior temperatura do Setor 1 é: ' + str(x[0]) + ' °C')\n"
   ]
  },
  {
   "cell_type": "code",
   "execution_count": 3,
   "id": "3ec19fd1",
   "metadata": {},
   "outputs": [
    {
     "name": "stdout",
     "output_type": "stream",
     "text": [
      "O endereço do supervisor Vinicius (Engenheiro) da empregada Xuxa (Tecnico) é: \n",
      ".....Rua: R. Denise\n",
      ".....Bairro: Catole\n",
      ".....Número: 53\n"
     ]
    }
   ],
   "source": [
    "# Qual o endereço do supervisor da empregada Xuxa?\n",
    "for row in c.execute('''\n",
    "                        SELECT Rua, Bairro, Número \n",
    "                        FROM Empregado \n",
    "                        WHERE Empregado_ID = (SELECT Supervisor_ID FROM Empregado WHERE Nome = 'Xuxa Meneghel');\n",
    "                    '''):\n",
    "    x = row\n",
    "print('O endereço do supervisor Vinicius (Engenheiro) da empregada Xuxa (Tecnico) é: \\n' \\\n",
    "      '.....Rua: ' + str(x[0]) + '\\n' \\\n",
    "      '.....Bairro: ' + str(x[1]) + '\\n' \\\n",
    "      '.....Número: ' + str(x[2]))"
   ]
  },
  {
   "cell_type": "code",
   "execution_count": 4,
   "id": "2a96189f",
   "metadata": {},
   "outputs": [],
   "source": [
    "conn.close()"
   ]
  },
  {
   "cell_type": "code",
   "execution_count": null,
   "id": "7a002442",
   "metadata": {},
   "outputs": [],
   "source": []
  }
 ],
 "metadata": {
  "kernelspec": {
   "display_name": "Python 3",
   "language": "python",
   "name": "python3"
  },
  "language_info": {
   "codemirror_mode": {
    "name": "ipython",
    "version": 3
   },
   "file_extension": ".py",
   "mimetype": "text/x-python",
   "name": "python",
   "nbconvert_exporter": "python",
   "pygments_lexer": "ipython3",
   "version": "3.8.8"
  }
 },
 "nbformat": 4,
 "nbformat_minor": 5
}
